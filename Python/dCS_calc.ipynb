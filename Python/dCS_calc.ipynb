{
 "cells": [
  {
   "cell_type": "code",
   "execution_count": 1,
   "id": "72726fed",
   "metadata": {},
   "outputs": [],
   "source": [
    "import os\n",
    "import pandas as pd\n",
    "import numpy as np"
   ]
  },
  {
   "cell_type": "code",
   "execution_count": 20,
   "id": "265e6972",
   "metadata": {},
   "outputs": [],
   "source": [
    "# Load theoretical and reference data\n",
    "theoretical_data = pd.read_csv('NMR_N_AVG.csv')\n",
    "reference_data = pd.read_csv('N_RCCS.csv')"
   ]
  },
  {
   "cell_type": "code",
   "execution_count": 21,
   "id": "31229dd7",
   "metadata": {},
   "outputs": [],
   "source": [
    "# Merge dataframes on 'RES' and the first column of reference\n",
    "merged_data = pd.merge(theoretical_data, reference_data, left_on='RES', right_on=reference_data.columns[0])\n"
   ]
  },
  {
   "cell_type": "code",
   "execution_count": 22,
   "id": "213cd80e",
   "metadata": {},
   "outputs": [],
   "source": [
    "# Calculate chemical shift (CS) as the difference between Theoretical and Reference values\n",
    "merged_data['CS'] = merged_data['SHIFT'] - merged_data.iloc[:, -1]\n",
    "\n"
   ]
  },
  {
   "cell_type": "code",
   "execution_count": 23,
   "id": "2332444c",
   "metadata": {},
   "outputs": [],
   "source": [
    "# Convert 'NUM' column to numeric\n",
    "merged_data['NUM'] = pd.to_numeric(merged_data['NUM'], errors='coerce')\n",
    "\n",
    "# Sort the dataframe based on 'NUM' values\n",
    "merged_data_sorted = merged_data.sort_values(by='NUM')\n",
    "\n",
    "# Calculate squared differences and RMSE\n",
    "merged_data_sorted['Squared_Diff'] = (merged_data_sorted['CS'])**2\n",
    "rmse = np.sqrt(np.mean(merged_data_sorted['Squared_Diff']))\n"
   ]
  },
  {
   "cell_type": "code",
   "execution_count": 24,
   "id": "534010bd",
   "metadata": {},
   "outputs": [
    {
     "name": "stdout",
     "output_type": "stream",
     "text": [
      "    NUM RES      CS\n",
      "0     1   G  1.2374\n",
      "6     2   S -0.0826\n",
      "22    3   M  3.2222\n",
      "26    4   T  1.0818\n",
      "7     6   S  3.1075\n",
      "..  ...  ..     ...\n",
      "21   88   S  3.7011\n",
      "69   89   V  4.3565\n",
      "66   90   K -3.5875\n",
      "41   91   R -2.0457\n",
      "36   92   T  2.0104\n",
      "\n",
      "[73 rows x 3 columns]\n",
      "RMSE: 3.3722\n"
     ]
    }
   ],
   "source": [
    "# Print the result\n",
    "print(merged_data_sorted[['NUM', 'RES', 'CS']])\n",
    "print(f'RMSE: {rmse:.4f}')"
   ]
  },
  {
   "cell_type": "code",
   "execution_count": 19,
   "id": "96895914",
   "metadata": {},
   "outputs": [],
   "source": [
    "# Save the sorted dataframe to a new CSV file\n",
    "merged_data_sorted.to_csv('dCS_CB_NMR_sorted.csv', index=False)\n",
    "merged_data_sorted[['NUM', 'CS']].round({'CS': 4}).to_csv('dCS_CB_NMR_calc.csv', index=False)\n"
   ]
  },
  {
   "cell_type": "code",
   "execution_count": null,
   "id": "99574417",
   "metadata": {},
   "outputs": [],
   "source": []
  }
 ],
 "metadata": {
  "kernelspec": {
   "display_name": "Python 3",
   "language": "python",
   "name": "python3"
  },
  "language_info": {
   "codemirror_mode": {
    "name": "ipython",
    "version": 3
   },
   "file_extension": ".py",
   "mimetype": "text/x-python",
   "name": "python",
   "nbconvert_exporter": "python",
   "pygments_lexer": "ipython3",
   "version": "3.8.8"
  }
 },
 "nbformat": 4,
 "nbformat_minor": 5
}
